{
 "cells": [
  {
   "cell_type": "markdown",
   "id": "99dadf98",
   "metadata": {},
   "source": [
    "# Daily Leetcode Notebook!\n",
    "\n",
    "Starting easy and then increasing difficulty to get back into the swing of everything!\n",
    "\n",
    "Total Number Completed: 32"
   ]
  },
  {
   "cell_type": "markdown",
   "id": "ed60fd5c",
   "metadata": {},
   "source": [
    "### 7/22/2025\n",
    "#13 - Roman to Integer (Easy)\n",
    "\n",
    "Run: beats 61.12%, Mem: beats 83.42%\n",
    "\n",
    "didn't need to store/call all these variables like this but its okay it works pretty well not bad"
   ]
  },
  {
   "cell_type": "code",
   "execution_count": null,
   "id": "67171177",
   "metadata": {},
   "outputs": [
    {
     "data": {
      "text/plain": [
       "1695"
      ]
     },
     "execution_count": 2,
     "metadata": {},
     "output_type": "execute_result"
    }
   ],
   "source": [
    "def romanToInt(s):\n",
    "    \"\"\"\n",
    "    :type s: str\n",
    "    :rtype: int\n",
    "    \"\"\"\n",
    "    nums = {\"I\": 1, \"V\": 5, \"X\" : 10, \"L\": 50,\"C\": 100, \"D\": 500, \"M\": 1000}\n",
    "    total = 0\n",
    "    i = 0\n",
    "    while i <= len(s)-1:\n",
    "        cur = nums[s[i]]\n",
    "        if i != len(s)-1:\n",
    "            next = nums[s[i+1]]\n",
    "        else:\n",
    "            next = 0\n",
    "        if cur < next:\n",
    "            total += (next-cur)\n",
    "            i += 2\n",
    "        else:\n",
    "            total += cur\n",
    "            i += 1\n",
    "    return total\n",
    "        \n",
    "\n",
    "romanToInt(\"MDCXCV\")"
   ]
  },
  {
   "cell_type": "markdown",
   "id": "2214e5ff",
   "metadata": {},
   "source": [
    "### 7/23/2024\n",
    "\n",
    "#58 - Length of Last Word (Easy)\n",
    "\n",
    "Run: Beats 100% Mem: Beat 13.45%\n",
    "\n",
    "don't actually need the strip() function but didn't realize til I looked at other answers so keeping it there because why not."
   ]
  },
  {
   "cell_type": "code",
   "execution_count": 22,
   "id": "d40bb6b9",
   "metadata": {},
   "outputs": [
    {
     "data": {
      "text/plain": [
       "6"
      ]
     },
     "execution_count": 22,
     "metadata": {},
     "output_type": "execute_result"
    }
   ],
   "source": [
    "def lengthOfLastWord(s):\n",
    "    arr = s.strip().split()\n",
    "    return len(arr[-1])\n",
    "\n",
    "lengthOfLastWord(\"luffy is still joyboy\")"
   ]
  },
  {
   "cell_type": "markdown",
   "id": "134a9fdd",
   "metadata": {},
   "source": [
    "### 7/24/2025\n",
    "\n",
    "#69 - sqrt(x) (Easy)\n",
    "\n",
    "Alright gang just end me i forgot that binary search exists man :wilt: :heartbreak:\n",
    "\n",
    "i had to look up the answer because i got a run that beats 11% this is so devastating fr"
   ]
  },
  {
   "cell_type": "code",
   "execution_count": null,
   "id": "477e1b60",
   "metadata": {},
   "outputs": [
    {
     "data": {
      "text/plain": [
       "141"
      ]
     },
     "execution_count": 15,
     "metadata": {},
     "output_type": "execute_result"
    }
   ],
   "source": [
    "def mySqrt(x):\n",
    "    while i*i < x:\n",
    "        i += 1\n",
    "    if i*i == x:\n",
    "        return i\n",
    "    else:\n",
    "        return i-1"
   ]
  },
  {
   "cell_type": "markdown",
   "id": "fd4c79a8",
   "metadata": {},
   "source": [
    "### 7/25/2025\n",
    "\n",
    "#169 - Majority Element (Easy)\n",
    "\n",
    "Run: beats 100%, memory: beats 90.89%!"
   ]
  },
  {
   "cell_type": "code",
   "execution_count": null,
   "id": "c15f9ae5",
   "metadata": {},
   "outputs": [
    {
     "data": {
      "text/plain": [
       "2"
      ]
     },
     "execution_count": 2,
     "metadata": {},
     "output_type": "execute_result"
    }
   ],
   "source": [
    "def majorityElement(nums):\n",
    "    for n in set(nums):\n",
    "        if nums.count(n) > len(nums)/2:\n",
    "            return n\n",
    "        "
   ]
  },
  {
   "cell_type": "markdown",
   "id": "3c5dbb1b",
   "metadata": {},
   "source": [
    "### 7/27/2025\n",
    "\n",
    "#2210 - Count Hills and Valleys in an Array (Easy)\n",
    "\n",
    "Run: beats 100%; Mem: beats 61.36%!\n",
    "\n",
    "could def make it more compact / use less variables but it works"
   ]
  },
  {
   "cell_type": "code",
   "execution_count": 4,
   "id": "58ce42e6",
   "metadata": {},
   "outputs": [
    {
     "data": {
      "text/plain": [
       "0"
      ]
     },
     "execution_count": 4,
     "metadata": {},
     "output_type": "execute_result"
    }
   ],
   "source": [
    "def countHillValley(nums):\n",
    "    j = 0\n",
    "    i = 1\n",
    "    k = 2\n",
    "    count = 0\n",
    "    if len(nums) <= 2:\n",
    "        return 0\n",
    "    else:\n",
    "        while k <= len(nums)-1:\n",
    "            start = nums[j]\n",
    "            mid = nums[i]\n",
    "            end = nums[k]\n",
    "            if (mid > start and mid > end) or (mid < start and mid < end):\n",
    "                count += 1\n",
    "                j = i\n",
    "                i = j+1\n",
    "                k = i+1\n",
    "            elif mid == end:\n",
    "                while mid == end:\n",
    "                    k += 1\n",
    "                    i += 1\n",
    "                    if k <= len(nums)-1:\n",
    "                        end = nums[k]\n",
    "                    else:\n",
    "                        return count\n",
    "            else:\n",
    "                j += 1\n",
    "                i += 1\n",
    "                k += 1\n",
    "        return count\n",
    "\n",
    "countHillValley([6,6,5,5,4,1])   "
   ]
  },
  {
   "cell_type": "markdown",
   "id": "5ff597e9",
   "metadata": {},
   "source": [
    "### 7/28/2025\n",
    "\n",
    "#28 - Find the Index of First Occurance in String (Easy)\n",
    "\n",
    "Run: beats 100%, Mem: beats 10%\n",
    "\n",
    "really ugly honestly but it works\n",
    "\n",
    "looked at solutions wow this is so inefficient lmao i forgot about the .find function i gotta get out of my linear loop habits"
   ]
  },
  {
   "cell_type": "code",
   "execution_count": 23,
   "id": "96c677d2",
   "metadata": {},
   "outputs": [
    {
     "data": {
      "text/plain": [
       "-1"
      ]
     },
     "execution_count": 23,
     "metadata": {},
     "output_type": "execute_result"
    }
   ],
   "source": [
    "def strStr(haystack, needle):\n",
    "    if len(needle) > len(haystack):\n",
    "            return -1\n",
    "    if needle == haystack:\n",
    "        return 0\n",
    "    i = 0\n",
    "    j = 0\n",
    "    while i < len(haystack):\n",
    "        if needle[j] == haystack[i]:\n",
    "            k = i\n",
    "            while needle[j] == haystack[k]:\n",
    "                j += 1\n",
    "                k += 1\n",
    "                if j >= len(needle):\n",
    "                    return i\n",
    "                elif k >= len(haystack):\n",
    "                    return -1\n",
    "            j = 0 \n",
    "            i += 1\n",
    "        else:\n",
    "            i += 1\n",
    "    return -1\n",
    "                \n",
    "\n",
    "strStr(\"mississippi\", \"issipi\")"
   ]
  },
  {
   "cell_type": "markdown",
   "id": "0d8a2162",
   "metadata": {},
   "source": [
    "### 7/30/2025\n",
    "\n",
    "#35 - Search Insert Position (Easy)\n",
    "\n",
    "Run: beats 100%, Mem: beats 22.58% - def overcomplicated the binary search but it works at least"
   ]
  },
  {
   "cell_type": "code",
   "execution_count": 5,
   "id": "dbfd264c",
   "metadata": {},
   "outputs": [
    {
     "data": {
      "text/plain": [
       "4"
      ]
     },
     "execution_count": 5,
     "metadata": {},
     "output_type": "execute_result"
    }
   ],
   "source": [
    "def searchInsert(nums, target):\n",
    "    low = 0\n",
    "    high = len(nums)-1\n",
    "    mid = high//2\n",
    "    if target > nums[high]:\n",
    "        return len(nums)\n",
    "    elif target < nums[low]:\n",
    "        return 0\n",
    "    else:\n",
    "        while True:\n",
    "            if target == nums[high]:\n",
    "                return high\n",
    "            elif target == nums[low]:\n",
    "                return low\n",
    "            elif target == nums[mid]:\n",
    "                return mid\n",
    "            elif low == mid or mid == high:\n",
    "                return high\n",
    "            elif nums[mid] < target:\n",
    "                low = mid\n",
    "                mid = low+(high-low)//2\n",
    "            elif nums[mid] > target:\n",
    "                high = mid\n",
    "                mid = low+(high-low)//2\n",
    "\n",
    "searchInsert([1,3,5,6], 7)"
   ]
  },
  {
   "cell_type": "markdown",
   "id": "2457ea1e",
   "metadata": {},
   "source": [
    "### 7/31/2025\n",
    "\n",
    "#14 - Longest Common Prefix (Easy)\n",
    "\n",
    "Run: beats 35.14% - Mem: beats 60%\n",
    "\n",
    "Improvement: can use python's sort function on the list, and then only check first and last strings (since they are the most different)."
   ]
  },
  {
   "cell_type": "code",
   "execution_count": null,
   "id": "e5f6b339",
   "metadata": {},
   "outputs": [
    {
     "data": {
      "text/plain": [
       "'aa'"
      ]
     },
     "execution_count": 12,
     "metadata": {},
     "output_type": "execute_result"
    }
   ],
   "source": [
    "def longestCommonPrefix(strs):\n",
    "    common = strs[0]\n",
    "    for str in strs[1:]:\n",
    "        if common == \"\" or str == \"\":\n",
    "            return common\n",
    "        i = 0\n",
    "        while common[i] == str[i]:\n",
    "            i += 1\n",
    "            if i > len(str)-1 or i > len(common)-1:\n",
    "                break\n",
    "        common = common[:i]\n",
    "        \n",
    "    return common\n",
    "\n",
    "longestCommonPrefix([\"aaa\",\"aa\",\"aaa\"])"
   ]
  },
  {
   "cell_type": "markdown",
   "id": "cb2d6c51",
   "metadata": {},
   "source": [
    "### 8/1/2025\n",
    "\n",
    "#118 - Pascal's Triangle (Easy)\n",
    "\n",
    "Run: 11.37%, Mem: 21.66% - need to update later with dynamic programming solution"
   ]
  },
  {
   "cell_type": "code",
   "execution_count": 10,
   "id": "27d56d1e",
   "metadata": {},
   "outputs": [
    {
     "data": {
      "text/plain": [
       "[[1], [1, 1], [1, 2, 1], [1, 3, 3, 1]]"
      ]
     },
     "execution_count": 10,
     "metadata": {},
     "output_type": "execute_result"
    }
   ],
   "source": [
    "def generate(numRows):\n",
    "    if numRows == 0:\n",
    "        return []\n",
    "    triangle = [[1]]\n",
    "    if numRows == 1:\n",
    "        return triangle\n",
    "    for _ in range(numRows-1):\n",
    "        new_row = [1]\n",
    "        prev = triangle[-1]\n",
    "        i = 0\n",
    "        j = 1\n",
    "        while j <= len(prev)-1:\n",
    "            new_row.append(prev[i]+prev[j])\n",
    "            i += 1\n",
    "            j += 1\n",
    "        new_row.append(1)\n",
    "        triangle.append(new_row)\n",
    "    return triangle\n",
    "\n",
    "generate(4)"
   ]
  },
  {
   "cell_type": "markdown",
   "id": "cbc88f5e",
   "metadata": {},
   "source": [
    "barely better - run 26.67%?"
   ]
  },
  {
   "cell_type": "code",
   "execution_count": 24,
   "id": "e14a3c95",
   "metadata": {},
   "outputs": [
    {
     "data": {
      "text/plain": [
       "[[1], [1, 1], [1, 2, 1], [1, 3, 3, 1], [1, 4, 6, 4, 1]]"
      ]
     },
     "execution_count": 24,
     "metadata": {},
     "output_type": "execute_result"
    }
   ],
   "source": [
    "def generate(numRows):\n",
    "    triangle = []\n",
    "    for row in range(numRows):\n",
    "        row_adder = []\n",
    "        for i in range(row+1):\n",
    "            if i == 0 or i == row:\n",
    "                row_adder.append(1)\n",
    "            else:\n",
    "                prev = triangle[-1]\n",
    "                row_adder.append(prev[i-1] + prev[i])\n",
    "        triangle.append(row_adder)\n",
    "    return triangle\n",
    "\n",
    "generate(5)"
   ]
  },
  {
   "cell_type": "markdown",
   "id": "e2dd0599",
   "metadata": {},
   "source": [
    "### 8/5/2025\n",
    "\n",
    "#20 - Valid Parentheses (Easy)\n",
    "\n",
    "Run: beats 61.44%, Mem: beats 56.91%"
   ]
  },
  {
   "cell_type": "code",
   "execution_count": null,
   "id": "3af3d37d",
   "metadata": {},
   "outputs": [
    {
     "data": {
      "text/plain": [
       "False"
      ]
     },
     "execution_count": 19,
     "metadata": {},
     "output_type": "execute_result"
    }
   ],
   "source": [
    "def isValid(s):\n",
    "    dict = {\"{\":\"}\", \"[\":\"]\", \"(\":\")\"}\n",
    "    stack = []\n",
    "    for cur in s:\n",
    "        if cur in dict.keys(): \n",
    "            stack.append(cur)\n",
    "        else:\n",
    "            if len(stack) > 0:\n",
    "                    prev = stack.pop()\n",
    "            else:\n",
    "                return False\n",
    "            if dict[prev] != cur:\n",
    "                return False\n",
    "    if len(stack) == 0:\n",
    "        return True\n",
    "    else:\n",
    "        return False\n",
    "\n",
    "isValid(\"([)]\")\n"
   ]
  }
 ],
 "metadata": {
  "kernelspec": {
   "display_name": "Python 3",
   "language": "python",
   "name": "python3"
  },
  "language_info": {
   "codemirror_mode": {
    "name": "ipython",
    "version": 3
   },
   "file_extension": ".py",
   "mimetype": "text/x-python",
   "name": "python",
   "nbconvert_exporter": "python",
   "pygments_lexer": "ipython3",
   "version": "3.11.9"
  }
 },
 "nbformat": 4,
 "nbformat_minor": 5
}
